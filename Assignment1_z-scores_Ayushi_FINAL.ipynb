{
 "cells": [
  {
   "cell_type": "markdown",
   "metadata": {},
   "source": [
    "# Comparing Data points using z-scores\n",
    "\n",
    "Z-scores or standard scores are an essential statistic tool for analysts which helps provide comparative insight into scores from different normal distribution. While standard deviations define the line along which a particular data point lies, z-scores calculate how much a given value differs from the standard deviation of a set of values. \n",
    "\n",
    "Z-scores can be calculated by subtracting the Poplutaion Mean $\\mu$ (or Sample mean $\\bar x$, depending upon the data at hand) of the data points from the individual value and then dividing the result by the standard deviation. When translated into a formula it becomes:\n",
    "$$z = \\frac{x_i - \\mu}{\\sigma}$$\n",
    "\n",
    "The application of this statistic are widespread in the field of data analysis. For example: In the world of finance, traders z-score to indicate the volatility of the returs. The higher the score the more unexpected the results. \n",
    "\n",
    "The code below expects the user to provide 2 inputs a numpy array and a scalar value denoting the column index if the user wants to calculate the z-score of a specified column. The program makes use of other user defined functions such as sum, mean and standard deviation of the array input to finally calculate z-scores. "
   ]
  },
  {
   "cell_type": "markdown",
   "metadata": {},
   "source": [
    "# Python Code"
   ]
  },
  {
   "cell_type": "code",
   "execution_count": 15,
   "metadata": {},
   "outputs": [],
   "source": [
    "import numpy as np\n",
    "\n",
    "def summation(column):\n",
    "    sum = 0 \n",
    "    for element in column:\n",
    "        sum += element\n",
    "    return sum\n",
    "\n",
    "def mean(column):\n",
    "    return summation(column) / column.shape[0]\n",
    "\n",
    "def standard_dev(column):\n",
    "    return (sum((column - mean(column))**2)/(column.shape[0]))**(0.5)\n",
    "   \n",
    "def z_score(array, col_index = None):\n",
    "    \"\"\"\n",
    "    @param array it is an array entered by the user on which z_score normalization will be calculated\n",
    "    @param  col_index it is column index defined to calculate z_scores of a specific column entered by the user.\n",
    "    @return array array after calculating zscore either for entire array or specified column\n",
    "    \"\"\"\n",
    "    # Using try statement to handle selected exceptions in user input. \n",
    "    #instances specified with assert statements\n",
    "    try:\n",
    "        # asserting the user to input an array for z_score calculations\n",
    "        assert type(array) == np.ndarray,'Input should be an array'\n",
    "        # asserting the user to input a two dimensional array only\n",
    "        assert len(array.shape) == 2, 'Shape of array should be 2 dimensional'\n",
    "        # asserting the user to input only a positive integer for column index\n",
    "        assert (type(col_index) == int and col_index >= 0) or col_index == None, 'Column Index should be none or a positive integer'\n",
    "        # asserting the user to input a column index value less than the number of columns in array because Python starts indexing from zero\n",
    "        assert col_index == None or col_index < array.shape[1],'Column Index should be lesser than the number of columns in the array because Python starts indexing from zero'\n",
    "\n",
    "        array = np.asarray(array,dtype = float)\n",
    "\n",
    "        if col_index is None:\n",
    "            for column_index in range(array.shape[1]): \n",
    "                array[:,column_index] = z_score_column(array,column_index)    \n",
    "        else:\n",
    "            array[:,col_index] = z_score_column(array,col_index)\n",
    "        return array\n",
    "\n",
    "    # generates error message when entered parameters do not meet the given condition\n",
    "    except AssertionError as error:\n",
    "        print(str(error))\n",
    "\n",
    "def z_score_column(array, col_index):\n",
    "    column = array[:,col_index]\n",
    "    column_mean = mean(column)\n",
    "    column_standard_dev  = standard_dev(column)\n",
    "    temp = (column - column_mean) / column_standard_dev\n",
    "    return temp"
   ]
  },
  {
   "cell_type": "markdown",
   "metadata": {},
   "source": [
    "# Outputs Generated based on User Input"
   ]
  },
  {
   "cell_type": "code",
   "execution_count": 2,
   "metadata": {},
   "outputs": [
    {
     "name": "stdout",
     "output_type": "stream",
     "text": [
      "[[-0.17149859 -0.49363572 -0.74427584]\n",
      " [-1.02899151 -0.20326177 -0.23968205]\n",
      " [-1.02899151 -0.63882269 -1.31194386]\n",
      " [ 1.54348727  1.97454287  1.02180243]\n",
      " [ 0.68599434 -0.63882269  1.27409932]]\n"
     ]
    }
   ],
   "source": [
    "x1 = np.array([[4,3,12],[1,5,20],[1,2,3],[10,20,40],[7,2,44]])\n",
    "x2 = 3\n",
    "x3 = 6\n",
    "x4 = 'two'\n",
    "print(z_score(x1))"
   ]
  },
  {
   "cell_type": "code",
   "execution_count": 16,
   "metadata": {
    "scrolled": true
   },
   "outputs": [
    {
     "name": "stdout",
     "output_type": "stream",
     "text": [
      "[[-0.17149859  3.         12.        ]\n",
      " [-1.02899151  5.         20.        ]\n",
      " [-1.02899151  2.          3.        ]\n",
      " [ 1.54348727 20.         40.        ]\n",
      " [ 0.68599434  2.         44.        ]]\n"
     ]
    }
   ],
   "source": [
    "print(z_score(x1,0))"
   ]
  },
  {
   "cell_type": "markdown",
   "metadata": {},
   "source": [
    "The above input parameters calculate z-scores and transform only the first column values according to the input provided by the user keeping the rest of the column values intact."
   ]
  },
  {
   "cell_type": "code",
   "execution_count": 13,
   "metadata": {},
   "outputs": [
    {
     "name": "stdout",
     "output_type": "stream",
     "text": [
      "Column Index should be lesser than the number of columns in the array because Python starts indexing from zero\n",
      "None\n"
     ]
    }
   ],
   "source": [
    "print(z_score(x1,x2))"
   ]
  },
  {
   "cell_type": "code",
   "execution_count": 14,
   "metadata": {},
   "outputs": [
    {
     "name": "stdout",
     "output_type": "stream",
     "text": [
      "Column Index should be lesser than the number of columns in the array because Python starts indexing from zero\n",
      "None\n"
     ]
    }
   ],
   "source": [
    "print(z_score(x1,x3))"
   ]
  },
  {
   "cell_type": "code",
   "execution_count": 5,
   "metadata": {},
   "outputs": [
    {
     "name": "stdout",
     "output_type": "stream",
     "text": [
      "Input should be an array\n",
      "None\n"
     ]
    }
   ],
   "source": [
    "print(z_score(x2,x3))"
   ]
  },
  {
   "cell_type": "code",
   "execution_count": 11,
   "metadata": {},
   "outputs": [
    {
     "name": "stdout",
     "output_type": "stream",
     "text": [
      "Column Index should be none or a positive integer\n",
      "None\n"
     ]
    }
   ],
   "source": [
    "print(z_score(x1,x4))"
   ]
  },
  {
   "cell_type": "markdown",
   "metadata": {},
   "source": [
    "# Lessons Learned\n",
    "\n",
    "This being my first assignment, there were a number of glitches in the first draft of the code and the outputs of the program were not meeting the standards set. It took a lot of trial and error, time, practice and online help for debugging to come up with a desirable program. My takeaways from this assignments were:\n",
    "\n",
    "### <font color='green'>Always start by breaking down the logical sequence flow of the program</font>\n",
    "For Example: To calculate z_scores in the above program, the program first defines separate functions calculating other elements required by the formula starting with the basic sum of elements column wise to calculate the mean and the standard deviation and then moves on to calculate z_scores once all the the other functions were running properly.\n",
    "\n",
    "### <font color='green'>User Friendliness is important</font>\n",
    "It is important to remember that the program may have different users and should therefore be user friendly.\n",
    "The above program is designed to take 2 inputs - a numpy array and a scalar. To compel the user to meet the specified conditions for input paratmeters, Assert statement was used to test if a condition in the code returns True, if not, the program will raise an AssertionError.  \n",
    "\n",
    "### <font color='green'>Research is paramount</font>\n",
    "There are a billion statements and functions in a coding language and it is difficult to recall a lot of them without enough practice. Any beginner should spend enough time on researching appropiate statements to generate a desired output. \n",
    "For Example: While working with the program, I was struggling to find a way to just display an error message for the user and not generate an error. I came across a number of interesting functions using which one could extract, format and print stack traces of Python programs a traceback error message for the user if the user makes use of the traceback package that but to achieve the desired result, I made use of the the try statement with an except clause. The statement did generate assertion errors mentioned in the assert statements which were handled by the use of except clause. \n",
    "\n",
    "Coding in any language may require a lot of trial and error to get your imagined output or even to fulfill the basic requirements of the assignment. As a neophyte it is important to always give yourself enough time to complete your assignment to not be stuck working till the end of deadlines. \n"
   ]
  }
 ],
 "metadata": {
  "kernelspec": {
   "display_name": "Python 3",
   "language": "python",
   "name": "python3"
  },
  "language_info": {
   "codemirror_mode": {
    "name": "ipython",
    "version": 3
   },
   "file_extension": ".py",
   "mimetype": "text/x-python",
   "name": "python",
   "nbconvert_exporter": "python",
   "pygments_lexer": "ipython3",
   "version": "3.8.3"
  }
 },
 "nbformat": 4,
 "nbformat_minor": 4
}
